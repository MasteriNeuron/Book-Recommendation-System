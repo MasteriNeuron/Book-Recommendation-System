{
 "cells": [
  {
   "cell_type": "code",
   "execution_count": 1,
   "metadata": {},
   "outputs": [],
   "source": [
    "import pickle\n",
    "import numpy as np\n",
    "import pandas as pd"
   ]
  },
  {
   "cell_type": "code",
   "execution_count": 2,
   "metadata": {},
   "outputs": [],
   "source": [
    "popular_df = pd.read_pickle('popular.pkl')\n",
    "pt  = pd.read_pickle('pt.pkl')\n",
    "books  = pd.read_pickle('books.pkl')\n",
    "similarity_scores  = pd.read_pickle('similarity_scores.pkl')"
   ]
  },
  {
   "cell_type": "code",
   "execution_count": 3,
   "metadata": {},
   "outputs": [
    {
     "name": "stdout",
     "output_type": "stream",
     "text": [
      "[[1.         0.10255025 0.01220856 ... 0.12110367 0.07347567 0.04316046]\n",
      " [0.10255025 1.         0.2364573  ... 0.07446129 0.16773875 0.14263397]\n",
      " [0.01220856 0.2364573  1.         ... 0.04558758 0.04938579 0.10796119]\n",
      " ...\n",
      " [0.12110367 0.07446129 0.04558758 ... 1.         0.07085128 0.0196177 ]\n",
      " [0.07347567 0.16773875 0.04938579 ... 0.07085128 1.         0.10602962]\n",
      " [0.04316046 0.14263397 0.10796119 ... 0.0196177  0.10602962 1.        ]]\n"
     ]
    }
   ],
   "source": [
    "import pickle\n",
    "\n",
    "# Replace 'filename.pkl' with the actual name of your pickle file\n",
    "file_path = 'similarity_scores.pkl'\n",
    "\n",
    "# Load the data from the pickle file\n",
    "with open(file_path, 'rb') as file:\n",
    "    data = pd.read_pickle(file)\n",
    "\n",
    "# Print the loaded data\n",
    "pd.set_option(\"display.max_columns\", None)\n",
    "pd.set_option(\"display.expand_frame_repr\", False)\n",
    "print(data)\n"
   ]
  },
  {
   "cell_type": "code",
   "execution_count": 4,
   "metadata": {},
   "outputs": [
    {
     "name": "stdout",
     "output_type": "stream",
     "text": [
      "[0]\n",
      "Book Title: Animal Farm\n",
      "Book Author: George Orwell\n",
      "Image URL: http://images.amazon.com/images/P/0451526341.01.MZZZZZZZ.jpg\n",
      "==================================================\n",
      "Book Title: The Handmaid's Tale\n",
      "Book Author: Margaret Atwood\n",
      "Image URL: http://images.amazon.com/images/P/0449212602.01.MZZZZZZZ.jpg\n",
      "==================================================\n",
      "Book Title: Brave New World\n",
      "Book Author: Aldous Huxley\n",
      "Image URL: http://images.amazon.com/images/P/0060809833.01.MZZZZZZZ.jpg\n",
      "==================================================\n",
      "Book Title: The Vampire Lestat (Vampire Chronicles, Book II)\n",
      "Book Author: ANNE RICE\n",
      "Image URL: http://images.amazon.com/images/P/0345313860.01.MZZZZZZZ.jpg\n",
      "==================================================\n",
      "Book Title: The Hours : A Novel\n",
      "Book Author: Michael Cunningham\n",
      "Image URL: http://images.amazon.com/images/P/0312243022.01.MZZZZZZZ.jpg\n",
      "==================================================\n"
     ]
    }
   ],
   "source": [
    "user_input = \"1984\"\n",
    "index = np.where(pt.index == user_input)[0]\n",
    "print(index)\n",
    "if len(index) > 0:\n",
    "    index = index[0]\n",
    "    similar_items = sorted(enumerate(similarity_scores[index]), key=lambda x: x[1], reverse=True)[1:6]\n",
    "    data = []\n",
    "\n",
    "    for i in similar_items:\n",
    "        item = []\n",
    "        temp_df = books[books['Book-Title'] == pt.index[i[0]]]\n",
    "        item.extend(temp_df.drop_duplicates('Book-Title')['Book-Title'].values)\n",
    "        item.extend(temp_df.drop_duplicates('Book-Title')['Book-Author'].values)\n",
    "        item.extend(temp_df.drop_duplicates('Book-Title')['Image-URL-M'].values)\n",
    "\n",
    "        data.append(item)\n",
    "\n",
    "    for item in data:\n",
    "        print(\"Book Title:\", item[0])\n",
    "        print(\"Book Author:\", item[1])\n",
    "        print(\"Image URL:\", item[2])\n",
    "        print(\"=\" * 50)\n",
    "else:\n",
    "    print(f\"Book '{user_input}' not found in the index.\")\n"
   ]
  },
  {
   "cell_type": "code",
   "execution_count": 5,
   "metadata": {},
   "outputs": [],
   "source": [
    "def recommend(book_name):\n",
    "    #index fetch\n",
    "    index = np.where(pt.index==book_name)[0][0]\n",
    "    similar_items = sorted(list(enumerate(similarity_scores[index])),key=lambda x: x[1],reverse=True)[1:6]\n",
    "    data = []\n",
    "    for i in similar_items:\n",
    "        item = []\n",
    "        temp_df = books[books['Book-Title']== pt.index[i[0]]]\n",
    "        item.extend(list(temp_df.drop_duplicates('Book-Title')['Book-Title'].values))\n",
    "        item.extend(list(temp_df.drop_duplicates('Book-Title')['Book-Author'].values))\n",
    "        item.extend(list(temp_df.drop_duplicates('Book-Title')['Image-URL-M'].values))\n",
    "        \n",
    "        data.append(item)\n",
    "    return data\n",
    "    "
   ]
  },
  {
   "cell_type": "code",
   "execution_count": 6,
   "metadata": {},
   "outputs": [
    {
     "data": {
      "text/plain": [
       "[['Angels &amp; Demons',\n",
       "  'Dan Brown',\n",
       "  'http://images.amazon.com/images/P/0671027360.01.MZZZZZZZ.jpg'],\n",
       " ['Touching Evil',\n",
       "  'Kay Hooper',\n",
       "  'http://images.amazon.com/images/P/0553583441.01.MZZZZZZZ.jpg'],\n",
       " ['Saving Faith',\n",
       "  'David Baldacci',\n",
       "  'http://images.amazon.com/images/P/0446608890.01.MZZZZZZZ.jpg'],\n",
       " [\"The Sweet Potato Queens' Book of Love\",\n",
       "  'JILL CONNER BROWNE',\n",
       "  'http://images.amazon.com/images/P/0609804138.01.MZZZZZZZ.jpg'],\n",
       " ['Middlesex: A Novel',\n",
       "  'Jeffrey Eugenides',\n",
       "  'http://images.amazon.com/images/P/0312422156.01.MZZZZZZZ.jpg']]"
      ]
     },
     "execution_count": 6,
     "metadata": {},
     "output_type": "execute_result"
    }
   ],
   "source": [
    "recommend(\"The Da Vinci Code\")"
   ]
  },
  {
   "cell_type": "code",
   "execution_count": 7,
   "metadata": {},
   "outputs": [
    {
     "name": "stdout",
     "output_type": "stream",
     "text": [
      "[['Angels &amp; Demons', 'Dan Brown', 'http://images.amazon.com/images/P/0671027360.01.MZZZZZZZ.jpg'], ['Touching Evil', 'Kay Hooper', 'http://images.amazon.com/images/P/0553583441.01.MZZZZZZZ.jpg'], ['Saving Faith', 'David Baldacci', 'http://images.amazon.com/images/P/0446608890.01.MZZZZZZZ.jpg'], [\"The Sweet Potato Queens' Book of Love\", 'JILL CONNER BROWNE', 'http://images.amazon.com/images/P/0609804138.01.MZZZZZZZ.jpg'], ['Middlesex: A Novel', 'Jeffrey Eugenides', 'http://images.amazon.com/images/P/0312422156.01.MZZZZZZZ.jpg']]\n"
     ]
    }
   ],
   "source": [
    "user_input = \"The Da Vinci Code\"\n",
    "index = np.where(pt.index == user_input)[0][0]\n",
    "similar_items = sorted(list(enumerate(similarity_scores[index])), key=lambda x: x[1], reverse=True)[1:6]\n",
    "data = []\n",
    "for i in similar_items:\n",
    "    item = []\n",
    "    temp_df = books[books['Book-Title'] == pt.index[i[0]]]\n",
    "    item.extend(list(temp_df.drop_duplicates('Book-Title')['Book-Title'].values))\n",
    "    item.extend(list(temp_df.drop_duplicates('Book-Title')['Book-Author'].values))\n",
    "    item.extend(list(temp_df.drop_duplicates('Book-Title')['Image-URL-M'].values))\n",
    "\n",
    "    data.append(item)\n",
    "print(data)"
   ]
  },
  {
   "cell_type": "code",
   "execution_count": null,
   "metadata": {},
   "outputs": [],
   "source": []
  }
 ],
 "metadata": {
  "kernelspec": {
   "display_name": "Python 3",
   "language": "python",
   "name": "python3"
  },
  "language_info": {
   "codemirror_mode": {
    "name": "ipython",
    "version": 3
   },
   "file_extension": ".py",
   "mimetype": "text/x-python",
   "name": "python",
   "nbconvert_exporter": "python",
   "pygments_lexer": "ipython3",
   "version": "3.9.0"
  },
  "orig_nbformat": 4
 },
 "nbformat": 4,
 "nbformat_minor": 2
}
